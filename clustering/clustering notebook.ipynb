{
 "cells": [
  {
   "cell_type": "code",
   "execution_count": 1,
   "metadata": {
    "collapsed": true
   },
   "outputs": [],
   "source": [
    "import gensim\n",
    "from sklearn.cluster import KMeans\n",
    "import numpy as np"
   ]
  },
  {
   "cell_type": "code",
   "execution_count": 2,
   "metadata": {
    "collapsed": true
   },
   "outputs": [],
   "source": [
    "# Initialize the model\n",
    "model = gensim.models.Word2Vec.load('models/model1.model')"
   ]
  },
  {
   "cell_type": "code",
   "execution_count": 4,
   "metadata": {
    "collapsed": false
   },
   "outputs": [],
   "source": [
    "# create an array of vectors\n",
    "vecs = []\n",
    "vocab_list = list(model.wv.vocab)\n",
    "for word in vocab_list:\n",
    "    vecs.append(model.wv[word].tolist())"
   ]
  },
  {
   "cell_type": "code",
   "execution_count": 5,
   "metadata": {
    "collapsed": true
   },
   "outputs": [],
   "source": [
    "# change array into numpy array\n",
    "X = np.array(vecs)"
   ]
  },
  {
   "cell_type": "code",
   "execution_count": 6,
   "metadata": {
    "collapsed": true
   },
   "outputs": [],
   "source": [
    "#initialize kmeans\n",
    "kmeans = KMeans(n_clusters=100, random_state=0).fit(X)"
   ]
  },
  {
   "cell_type": "code",
   "execution_count": 7,
   "metadata": {
    "collapsed": false
   },
   "outputs": [
    {
     "data": {
      "text/plain": [
       "array([39, 18, 91, ..., 64, 74, 46], dtype=int32)"
      ]
     },
     "execution_count": 7,
     "metadata": {},
     "output_type": "execute_result"
    }
   ],
   "source": [
    "kmeans.labels_"
   ]
  },
  {
   "cell_type": "code",
   "execution_count": 8,
   "metadata": {
    "collapsed": false
   },
   "outputs": [
    {
     "data": {
      "text/plain": [
       "array([[ 0.14688081,  0.04279939, -0.14592225, ...,  0.20150674,\n",
       "        -0.03788948,  0.08379851],\n",
       "       [ 0.05545102, -0.03616345, -0.01768192, ...,  0.02382172,\n",
       "        -0.0082991 , -0.01476331],\n",
       "       [ 0.04918405, -0.14815073, -0.00306219, ..., -0.03547656,\n",
       "         0.03681693, -0.04949557],\n",
       "       ..., \n",
       "       [ 0.05058462, -0.06459751,  0.00817701, ..., -0.04940701,\n",
       "        -0.05786034, -0.08772069],\n",
       "       [ 0.19193606, -0.19132693, -0.02414407, ..., -0.07270793,\n",
       "        -0.05159815, -0.02011752],\n",
       "       [ 0.04007301, -0.05193172,  0.01518717, ..., -0.00392046,\n",
       "        -0.06906675,  0.00142751]])"
      ]
     },
     "execution_count": 8,
     "metadata": {},
     "output_type": "execute_result"
    }
   ],
   "source": [
    "kmeans.cluster_centers_"
   ]
  },
  {
   "cell_type": "code",
   "execution_count": 11,
   "metadata": {
    "collapsed": false
   },
   "outputs": [
    {
     "data": {
      "text/plain": [
       "-109314.38810892531"
      ]
     },
     "execution_count": 11,
     "metadata": {},
     "output_type": "execute_result"
    }
   ],
   "source": [
    "kmeans.score(X)"
   ]
  },
  {
   "cell_type": "code",
   "execution_count": null,
   "metadata": {
    "collapsed": true
   },
   "outputs": [],
   "source": []
  }
 ],
 "metadata": {
  "kernelspec": {
   "display_name": "Python 3",
   "language": "python",
   "name": "python3"
  },
  "language_info": {
   "codemirror_mode": {
    "name": "ipython",
    "version": 3
   },
   "file_extension": ".py",
   "mimetype": "text/x-python",
   "name": "python",
   "nbconvert_exporter": "python",
   "pygments_lexer": "ipython3",
   "version": "3.5.3"
  }
 },
 "nbformat": 4,
 "nbformat_minor": 0
}
