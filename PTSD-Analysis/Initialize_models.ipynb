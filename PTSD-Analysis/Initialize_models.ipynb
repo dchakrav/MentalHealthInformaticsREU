{
 "cells": [
  {
   "cell_type": "markdown",
   "metadata": {},
   "source": [
    "# Initialize Models\n",
    "This notebook will walk you through building and saving the most basic \n",
    "models we used for analyzing our text data.\n",
    "\n",
    "We first import the libraries and utility files we are going to be using."
   ]
  },
  {
   "cell_type": "code",
   "execution_count": 1,
   "metadata": {
    "collapsed": false
   },
   "outputs": [],
   "source": [
    "# Import useful mathematical libraries\n",
    "import numpy as np\n",
    "import pandas as pd\n",
    "\n",
    "# Import useful Machine learning libraries\n",
    "import gensim\n",
    "\n",
    "# Import utility files\n",
    "from utils import read_df, remove_links, clean_sentence, save_object, load_object"
   ]
  },
  {
   "cell_type": "markdown",
   "metadata": {},
   "source": [
    "#### Setup directories\n",
    "\n",
    "If this is the first time doing this analysis, \n",
    "we first will set up all the directories we need\n",
    "to save and load the models we will be using"
   ]
  },
  {
   "cell_type": "code",
   "execution_count": 2,
   "metadata": {
    "collapsed": false
   },
   "outputs": [],
   "source": [
    "import os\n",
    "directories = ['objects', 'models', 'clusters', 'matricies']\n",
    "for dirname in directories:\n",
    "    if not os.path.exists(dirname):\n",
    "        os.makedirs(dirname)"
   ]
  },
  {
   "cell_type": "markdown",
   "metadata": {},
   "source": [
    "#### Name Model\n",
    "\n",
    "Before begining the rest of our project, we select a name for our model.\n",
    "This name will be used to save and load the files for this model"
   ]
  },
  {
   "cell_type": "code",
   "execution_count": 4,
   "metadata": {
    "collapsed": true
   },
   "outputs": [],
   "source": [
    "model_name = \"PTSD_model4\""
   ]
  },
  {
   "cell_type": "markdown",
   "metadata": {},
   "source": [
    "#### Parse and Clean Data\n",
    "\n",
    "We first parse and clean our data. Our data is assumed to be in csv format, \n",
    "in a directory labeled 'data'."
   ]
  },
  {
   "cell_type": "code",
   "execution_count": 5,
   "metadata": {
    "collapsed": false
   },
   "outputs": [],
   "source": [
    "# Get the data from the csv\n",
    "df = read_df('data')"
   ]
  },
  {
   "cell_type": "code",
   "execution_count": 6,
   "metadata": {
    "collapsed": false
   },
   "outputs": [
    {
     "name": "stdout",
     "output_type": "stream",
     "text": [
      "<class 'pandas.core.frame.DataFrame'>\n",
      "Int64Index: 7057 entries, 0 to 208\n",
      "Data columns (total 15 columns):\n",
      "title           7057 non-null object\n",
      "created_utc     7057 non-null float64\n",
      "ups             7057 non-null float64\n",
      "downs           7057 non-null float64\n",
      "num_comments    7057 non-null float64\n",
      "name            6076 non-null object\n",
      "id              7057 non-null object\n",
      "from            0 non-null object\n",
      "from_id         0 non-null object\n",
      "selftext        6215 non-null object\n",
      "subreddit       7057 non-null object\n",
      "score           7057 non-null float64\n",
      "author          7057 non-null object\n",
      "url             7057 non-null object\n",
      "permalink       7057 non-null object\n",
      "dtypes: float64(5), object(10)\n",
      "memory usage: 882.1+ KB\n"
     ]
    }
   ],
   "source": [
    "# Do an inspection of our data to ensure nothing went wrong\n",
    "df.info()"
   ]
  },
  {
   "cell_type": "code",
   "execution_count": 7,
   "metadata": {
    "collapsed": false
   },
   "outputs": [
    {
     "data": {
      "text/html": [
       "<div>\n",
       "<table border=\"1\" class=\"dataframe\">\n",
       "  <thead>\n",
       "    <tr style=\"text-align: right;\">\n",
       "      <th></th>\n",
       "      <th>title</th>\n",
       "      <th>created_utc</th>\n",
       "      <th>ups</th>\n",
       "      <th>downs</th>\n",
       "      <th>num_comments</th>\n",
       "      <th>name</th>\n",
       "      <th>id</th>\n",
       "      <th>from</th>\n",
       "      <th>from_id</th>\n",
       "      <th>selftext</th>\n",
       "      <th>subreddit</th>\n",
       "      <th>score</th>\n",
       "      <th>author</th>\n",
       "      <th>url</th>\n",
       "      <th>permalink</th>\n",
       "    </tr>\n",
       "  </thead>\n",
       "  <tbody>\n",
       "    <tr>\n",
       "      <th>0</th>\n",
       "      <td>Posttraumatic stress disorder (Wikipedia Entry)</td>\n",
       "      <td>1220412859</td>\n",
       "      <td>4</td>\n",
       "      <td>1</td>\n",
       "      <td>0</td>\n",
       "      <td>t3_6zcej</td>\n",
       "      <td>6zcej</td>\n",
       "      <td>NaN</td>\n",
       "      <td>NaN</td>\n",
       "      <td>NaN</td>\n",
       "      <td>ptsd</td>\n",
       "      <td>3</td>\n",
       "      <td>Crito</td>\n",
       "      <td>http://en.wikipedia.org/wiki/PTSD</td>\n",
       "      <td>/r/ptsd/comments/6zcej/posttraumatic_stress_di...</td>\n",
       "    </tr>\n",
       "    <tr>\n",
       "      <th>1</th>\n",
       "      <td>Psychiatric Service Dog Society</td>\n",
       "      <td>1220412757</td>\n",
       "      <td>4</td>\n",
       "      <td>1</td>\n",
       "      <td>0</td>\n",
       "      <td>t3_6zce5</td>\n",
       "      <td>6zce5</td>\n",
       "      <td>NaN</td>\n",
       "      <td>NaN</td>\n",
       "      <td>NaN</td>\n",
       "      <td>ptsd</td>\n",
       "      <td>3</td>\n",
       "      <td>Crito</td>\n",
       "      <td>http://www.psychdog.org/about_mission.html</td>\n",
       "      <td>/r/ptsd/comments/6zce5/psychiatric_service_dog...</td>\n",
       "    </tr>\n",
       "    <tr>\n",
       "      <th>2</th>\n",
       "      <td>PTSD leaves physical footprints on the brain</td>\n",
       "      <td>1220637551</td>\n",
       "      <td>4</td>\n",
       "      <td>1</td>\n",
       "      <td>0</td>\n",
       "      <td>t3_6zvkd</td>\n",
       "      <td>6zvkd</td>\n",
       "      <td>NaN</td>\n",
       "      <td>NaN</td>\n",
       "      <td>NaN</td>\n",
       "      <td>ptsd</td>\n",
       "      <td>3</td>\n",
       "      <td>Crito</td>\n",
       "      <td>http://www.sfgate.com/cgi-bin/article.cgi?f=/c...</td>\n",
       "      <td>/r/ptsd/comments/6zvkd/ptsd_leaves_physical_fo...</td>\n",
       "    </tr>\n",
       "    <tr>\n",
       "      <th>3</th>\n",
       "      <td>Computer therapy soothes symptoms in combat ve...</td>\n",
       "      <td>1220976763</td>\n",
       "      <td>5</td>\n",
       "      <td>0</td>\n",
       "      <td>0</td>\n",
       "      <td>t3_70hw3</td>\n",
       "      <td>70hw3</td>\n",
       "      <td>NaN</td>\n",
       "      <td>NaN</td>\n",
       "      <td>NaN</td>\n",
       "      <td>ptsd</td>\n",
       "      <td>5</td>\n",
       "      <td>Crito</td>\n",
       "      <td>http://www.signonsandiego.com/news/military/20...</td>\n",
       "      <td>/r/ptsd/comments/70hw3/computer_therapy_soothe...</td>\n",
       "    </tr>\n",
       "    <tr>\n",
       "      <th>4</th>\n",
       "      <td>Trauma, PTSD Followed By Reduction In Region O...</td>\n",
       "      <td>1221046789</td>\n",
       "      <td>5</td>\n",
       "      <td>0</td>\n",
       "      <td>0</td>\n",
       "      <td>t3_70nr2</td>\n",
       "      <td>70nr2</td>\n",
       "      <td>NaN</td>\n",
       "      <td>NaN</td>\n",
       "      <td>NaN</td>\n",
       "      <td>ptsd</td>\n",
       "      <td>5</td>\n",
       "      <td>Crito</td>\n",
       "      <td>http://www.sciencedaily.com/releases/2008/08/0...</td>\n",
       "      <td>/r/ptsd/comments/70nr2/trauma_ptsd_followed_by...</td>\n",
       "    </tr>\n",
       "  </tbody>\n",
       "</table>\n",
       "</div>"
      ],
      "text/plain": [
       "                                               title  created_utc  ups  downs  \\\n",
       "0    Posttraumatic stress disorder (Wikipedia Entry)   1220412859    4      1   \n",
       "1                    Psychiatric Service Dog Society   1220412757    4      1   \n",
       "2       PTSD leaves physical footprints on the brain   1220637551    4      1   \n",
       "3  Computer therapy soothes symptoms in combat ve...   1220976763    5      0   \n",
       "4  Trauma, PTSD Followed By Reduction In Region O...   1221046789    5      0   \n",
       "\n",
       "   num_comments      name     id from from_id selftext subreddit  score  \\\n",
       "0             0  t3_6zcej  6zcej  NaN     NaN      NaN      ptsd      3   \n",
       "1             0  t3_6zce5  6zce5  NaN     NaN      NaN      ptsd      3   \n",
       "2             0  t3_6zvkd  6zvkd  NaN     NaN      NaN      ptsd      3   \n",
       "3             0  t3_70hw3  70hw3  NaN     NaN      NaN      ptsd      5   \n",
       "4             0  t3_70nr2  70nr2  NaN     NaN      NaN      ptsd      5   \n",
       "\n",
       "  author                                                url  \\\n",
       "0  Crito                  http://en.wikipedia.org/wiki/PTSD   \n",
       "1  Crito         http://www.psychdog.org/about_mission.html   \n",
       "2  Crito  http://www.sfgate.com/cgi-bin/article.cgi?f=/c...   \n",
       "3  Crito  http://www.signonsandiego.com/news/military/20...   \n",
       "4  Crito  http://www.sciencedaily.com/releases/2008/08/0...   \n",
       "\n",
       "                                           permalink  \n",
       "0  /r/ptsd/comments/6zcej/posttraumatic_stress_di...  \n",
       "1  /r/ptsd/comments/6zce5/psychiatric_service_dog...  \n",
       "2  /r/ptsd/comments/6zvkd/ptsd_leaves_physical_fo...  \n",
       "3  /r/ptsd/comments/70hw3/computer_therapy_soothe...  \n",
       "4  /r/ptsd/comments/70nr2/trauma_ptsd_followed_by...  "
      ]
     },
     "execution_count": 7,
     "metadata": {},
     "output_type": "execute_result"
    }
   ],
   "source": [
    "df.head()"
   ]
  },
  {
   "cell_type": "code",
   "execution_count": 8,
   "metadata": {
    "collapsed": false
   },
   "outputs": [],
   "source": [
    "# Clean the text in the dataframe\n",
    "df = df.replace(np.nan, '', regex = True)\n",
    "df = df.replace(\"\\[deleted\\]\", '', regex = True)\n",
    "df[\"rawtext\"] = df[\"title\"] + \" \" + df[\"selftext\"]\n",
    "df[\"cleantext\"] = df[\"rawtext\"].apply(remove_links).apply(clean_sentence)"
   ]
  },
  {
   "cell_type": "code",
   "execution_count": 9,
   "metadata": {
    "collapsed": false
   },
   "outputs": [
    {
     "name": "stdout",
     "output_type": "stream",
     "text": [
      "<class 'pandas.core.frame.DataFrame'>\n",
      "Int64Index: 7057 entries, 0 to 208\n",
      "Data columns (total 17 columns):\n",
      "title           7057 non-null object\n",
      "created_utc     7057 non-null float64\n",
      "ups             7057 non-null float64\n",
      "downs           7057 non-null float64\n",
      "num_comments    7057 non-null float64\n",
      "name            7057 non-null object\n",
      "id              7057 non-null object\n",
      "from            7057 non-null object\n",
      "from_id         7057 non-null object\n",
      "selftext        7057 non-null object\n",
      "subreddit       7057 non-null object\n",
      "score           7057 non-null float64\n",
      "author          7057 non-null object\n",
      "url             7057 non-null object\n",
      "permalink       7057 non-null object\n",
      "rawtext         7057 non-null object\n",
      "cleantext       7057 non-null object\n",
      "dtypes: float64(5), object(12)\n",
      "memory usage: 992.4+ KB\n"
     ]
    }
   ],
   "source": [
    "# Check that the cleaning was successful\n",
    "df.info()"
   ]
  },
  {
   "cell_type": "code",
   "execution_count": 10,
   "metadata": {
    "collapsed": false
   },
   "outputs": [
    {
     "data": {
      "text/html": [
       "<div>\n",
       "<table border=\"1\" class=\"dataframe\">\n",
       "  <thead>\n",
       "    <tr style=\"text-align: right;\">\n",
       "      <th></th>\n",
       "      <th>title</th>\n",
       "      <th>created_utc</th>\n",
       "      <th>ups</th>\n",
       "      <th>downs</th>\n",
       "      <th>num_comments</th>\n",
       "      <th>name</th>\n",
       "      <th>id</th>\n",
       "      <th>from</th>\n",
       "      <th>from_id</th>\n",
       "      <th>selftext</th>\n",
       "      <th>subreddit</th>\n",
       "      <th>score</th>\n",
       "      <th>author</th>\n",
       "      <th>url</th>\n",
       "      <th>permalink</th>\n",
       "      <th>rawtext</th>\n",
       "      <th>cleantext</th>\n",
       "    </tr>\n",
       "  </thead>\n",
       "  <tbody>\n",
       "    <tr>\n",
       "      <th>0</th>\n",
       "      <td>Posttraumatic stress disorder (Wikipedia Entry)</td>\n",
       "      <td>1220412859</td>\n",
       "      <td>4</td>\n",
       "      <td>1</td>\n",
       "      <td>0</td>\n",
       "      <td>t3_6zcej</td>\n",
       "      <td>6zcej</td>\n",
       "      <td></td>\n",
       "      <td></td>\n",
       "      <td></td>\n",
       "      <td>ptsd</td>\n",
       "      <td>3</td>\n",
       "      <td>Crito</td>\n",
       "      <td>http://en.wikipedia.org/wiki/PTSD</td>\n",
       "      <td>/r/ptsd/comments/6zcej/posttraumatic_stress_di...</td>\n",
       "      <td>Posttraumatic stress disorder (Wikipedia Entry)</td>\n",
       "      <td>posttraumatic stress disorder  wikipedia entry</td>\n",
       "    </tr>\n",
       "    <tr>\n",
       "      <th>1</th>\n",
       "      <td>Psychiatric Service Dog Society</td>\n",
       "      <td>1220412757</td>\n",
       "      <td>4</td>\n",
       "      <td>1</td>\n",
       "      <td>0</td>\n",
       "      <td>t3_6zce5</td>\n",
       "      <td>6zce5</td>\n",
       "      <td></td>\n",
       "      <td></td>\n",
       "      <td></td>\n",
       "      <td>ptsd</td>\n",
       "      <td>3</td>\n",
       "      <td>Crito</td>\n",
       "      <td>http://www.psychdog.org/about_mission.html</td>\n",
       "      <td>/r/ptsd/comments/6zce5/psychiatric_service_dog...</td>\n",
       "      <td>Psychiatric Service Dog Society</td>\n",
       "      <td>psychiatric service dog society</td>\n",
       "    </tr>\n",
       "    <tr>\n",
       "      <th>2</th>\n",
       "      <td>PTSD leaves physical footprints on the brain</td>\n",
       "      <td>1220637551</td>\n",
       "      <td>4</td>\n",
       "      <td>1</td>\n",
       "      <td>0</td>\n",
       "      <td>t3_6zvkd</td>\n",
       "      <td>6zvkd</td>\n",
       "      <td></td>\n",
       "      <td></td>\n",
       "      <td></td>\n",
       "      <td>ptsd</td>\n",
       "      <td>3</td>\n",
       "      <td>Crito</td>\n",
       "      <td>http://www.sfgate.com/cgi-bin/article.cgi?f=/c...</td>\n",
       "      <td>/r/ptsd/comments/6zvkd/ptsd_leaves_physical_fo...</td>\n",
       "      <td>PTSD leaves physical footprints on the brain</td>\n",
       "      <td>ptsd leaves physical footprints on the brain</td>\n",
       "    </tr>\n",
       "    <tr>\n",
       "      <th>3</th>\n",
       "      <td>Computer therapy soothes symptoms in combat ve...</td>\n",
       "      <td>1220976763</td>\n",
       "      <td>5</td>\n",
       "      <td>0</td>\n",
       "      <td>0</td>\n",
       "      <td>t3_70hw3</td>\n",
       "      <td>70hw3</td>\n",
       "      <td></td>\n",
       "      <td></td>\n",
       "      <td></td>\n",
       "      <td>ptsd</td>\n",
       "      <td>5</td>\n",
       "      <td>Crito</td>\n",
       "      <td>http://www.signonsandiego.com/news/military/20...</td>\n",
       "      <td>/r/ptsd/comments/70hw3/computer_therapy_soothe...</td>\n",
       "      <td>Computer therapy soothes symptoms in combat ve...</td>\n",
       "      <td>computer therapy soothes symptoms in combat ve...</td>\n",
       "    </tr>\n",
       "    <tr>\n",
       "      <th>4</th>\n",
       "      <td>Trauma, PTSD Followed By Reduction In Region O...</td>\n",
       "      <td>1221046789</td>\n",
       "      <td>5</td>\n",
       "      <td>0</td>\n",
       "      <td>0</td>\n",
       "      <td>t3_70nr2</td>\n",
       "      <td>70nr2</td>\n",
       "      <td></td>\n",
       "      <td></td>\n",
       "      <td></td>\n",
       "      <td>ptsd</td>\n",
       "      <td>5</td>\n",
       "      <td>Crito</td>\n",
       "      <td>http://www.sciencedaily.com/releases/2008/08/0...</td>\n",
       "      <td>/r/ptsd/comments/70nr2/trauma_ptsd_followed_by...</td>\n",
       "      <td>Trauma, PTSD Followed By Reduction In Region O...</td>\n",
       "      <td>trauma  ptsd followed by reduction in region o...</td>\n",
       "    </tr>\n",
       "  </tbody>\n",
       "</table>\n",
       "</div>"
      ],
      "text/plain": [
       "                                               title  created_utc  ups  downs  \\\n",
       "0    Posttraumatic stress disorder (Wikipedia Entry)   1220412859    4      1   \n",
       "1                    Psychiatric Service Dog Society   1220412757    4      1   \n",
       "2       PTSD leaves physical footprints on the brain   1220637551    4      1   \n",
       "3  Computer therapy soothes symptoms in combat ve...   1220976763    5      0   \n",
       "4  Trauma, PTSD Followed By Reduction In Region O...   1221046789    5      0   \n",
       "\n",
       "   num_comments      name     id from from_id selftext subreddit  score  \\\n",
       "0             0  t3_6zcej  6zcej                            ptsd      3   \n",
       "1             0  t3_6zce5  6zce5                            ptsd      3   \n",
       "2             0  t3_6zvkd  6zvkd                            ptsd      3   \n",
       "3             0  t3_70hw3  70hw3                            ptsd      5   \n",
       "4             0  t3_70nr2  70nr2                            ptsd      5   \n",
       "\n",
       "  author                                                url  \\\n",
       "0  Crito                  http://en.wikipedia.org/wiki/PTSD   \n",
       "1  Crito         http://www.psychdog.org/about_mission.html   \n",
       "2  Crito  http://www.sfgate.com/cgi-bin/article.cgi?f=/c...   \n",
       "3  Crito  http://www.signonsandiego.com/news/military/20...   \n",
       "4  Crito  http://www.sciencedaily.com/releases/2008/08/0...   \n",
       "\n",
       "                                           permalink  \\\n",
       "0  /r/ptsd/comments/6zcej/posttraumatic_stress_di...   \n",
       "1  /r/ptsd/comments/6zce5/psychiatric_service_dog...   \n",
       "2  /r/ptsd/comments/6zvkd/ptsd_leaves_physical_fo...   \n",
       "3  /r/ptsd/comments/70hw3/computer_therapy_soothe...   \n",
       "4  /r/ptsd/comments/70nr2/trauma_ptsd_followed_by...   \n",
       "\n",
       "                                             rawtext  \\\n",
       "0   Posttraumatic stress disorder (Wikipedia Entry)    \n",
       "1                   Psychiatric Service Dog Society    \n",
       "2      PTSD leaves physical footprints on the brain    \n",
       "3  Computer therapy soothes symptoms in combat ve...   \n",
       "4  Trauma, PTSD Followed By Reduction In Region O...   \n",
       "\n",
       "                                           cleantext  \n",
       "0   posttraumatic stress disorder  wikipedia entry    \n",
       "1                   psychiatric service dog society   \n",
       "2      ptsd leaves physical footprints on the brain   \n",
       "3  computer therapy soothes symptoms in combat ve...  \n",
       "4  trauma  ptsd followed by reduction in region o...  "
      ]
     },
     "execution_count": 10,
     "metadata": {},
     "output_type": "execute_result"
    }
   ],
   "source": [
    "df.head()"
   ]
  },
  {
   "cell_type": "markdown",
   "metadata": {},
   "source": [
    "### Phrase Analysis\n",
    "\n",
    "After parsing and cleaning the data we run the gensim phraser\n",
    "tool on our text data to join phrases like \"new york city\" \n",
    "together to form the word \"new_york_city\""
   ]
  },
  {
   "cell_type": "code",
   "execution_count": 11,
   "metadata": {
    "collapsed": true
   },
   "outputs": [],
   "source": [
    "# Get a stream of tokens\n",
    "posts = df[\"cleantext\"].apply(lambda str: str.split()).tolist()"
   ]
  },
  {
   "cell_type": "code",
   "execution_count": 12,
   "metadata": {
    "collapsed": false
   },
   "outputs": [],
   "source": [
    "# Train a phraseDetector to join two word phrases together\n",
    "two_word_phrases = gensim.models.Phrases(posts)\n",
    "two_word_phraser = gensim.models.phrases.Phraser(two_word_phrases)"
   ]
  },
  {
   "cell_type": "code",
   "execution_count": 13,
   "metadata": {
    "collapsed": true
   },
   "outputs": [],
   "source": [
    "# Train a phraseDetector to join three word phrases together\n",
    "three_word_phrases = gensim.models.Phrases(two_word_phraser[posts])\n",
    "three_word_phraser = gensim.models.phrases.Phraser(three_word_phrases)\n",
    "posts = list(three_word_phraser[two_word_phraser[posts]])"
   ]
  },
  {
   "cell_type": "code",
   "execution_count": 14,
   "metadata": {
    "collapsed": true
   },
   "outputs": [],
   "source": [
    "# Update Data frame\n",
    "df[\"phrasetext\"] = df[\"cleantext\"].apply(lambda str: \" \".join(three_word_phraser[two_word_phraser[str.split()]]))"
   ]
  },
  {
   "cell_type": "code",
   "execution_count": 15,
   "metadata": {
    "collapsed": false
   },
   "outputs": [
    {
     "data": {
      "text/plain": [
       "True"
      ]
     },
     "execution_count": 15,
     "metadata": {},
     "output_type": "execute_result"
    }
   ],
   "source": [
    "# Ensure posts contain same number of elements\n",
    "len(posts) == len(df)"
   ]
  },
  {
   "cell_type": "code",
   "execution_count": 16,
   "metadata": {
    "collapsed": false
   },
   "outputs": [],
   "source": [
    "# Check that the dataframe was updated correctly\n",
    "for i in range(len(posts)):\n",
    "    if not \" \".join(posts[i]) == list(df[\"phrasetext\"])[i]:\n",
    "        print(\"index :\" + str(i) + \" is incorrect\")"
   ]
  },
  {
   "cell_type": "markdown",
   "metadata": {},
   "source": [
    "### Data Saving\n",
    "\n",
    "After cleaning and parsing all of our data, we can now\n",
    "save it, so that we can analysis it later without having\n",
    "to go through lengthy computations"
   ]
  },
  {
   "cell_type": "code",
   "execution_count": 17,
   "metadata": {
    "collapsed": false
   },
   "outputs": [],
   "source": [
    "save_object(posts, 'objects/', model_name + \"-posts\")\n",
    "save_object(df, 'objects/', model_name + \"-df\")"
   ]
  },
  {
   "cell_type": "markdown",
   "metadata": {},
   "source": [
    "### Initialize Word2Vec Model\n",
    "\n",
    "After all of our data has been parsed and saved, \n",
    "we generate our Word2Vec Model"
   ]
  },
  {
   "cell_type": "code",
   "execution_count": 18,
   "metadata": {
    "collapsed": true
   },
   "outputs": [],
   "source": [
    "# Set the minimum word count to 10. This removes all words that appear less than 10 times in the data\n",
    "minimum_word_count = 10\n",
    "# Set skip gram to 1. This sets gensim to use the skip gram model instead of the Continuous Bag of Words model\n",
    "skip_gram = 1\n",
    "# Set Hidden layer size to 300.\n",
    "hidden_layer_size = 300\n",
    "# Set the window size to 5. \n",
    "window_size = 5\n",
    "# Set hierarchical softmax to 1. This sets gensim to use hierarchical softmax\n",
    "hierarchical_softmax = 1\n",
    "# Set negative sampling to 20. This is good for relatively small data sets, but becomes harder for larger datasets\n",
    "negative_sampling = 20\n",
    "# number of iterations to run default 5\n",
    "iterations =80"
   ]
  },
  {
   "cell_type": "code",
   "execution_count": 19,
   "metadata": {
    "collapsed": false
   },
   "outputs": [],
   "source": [
    "# Build the model\n",
    "model = gensim.models.Word2Vec(posts, min_count = minimum_word_count, sg = skip_gram, size = hidden_layer_size,\n",
    "                               window = window_size, hs = hierarchical_softmax, negative = negative_sampling,iter=iterations)"
   ]
  },
  {
   "cell_type": "markdown",
   "metadata": {},
   "source": [
    "### Basic Model test\n",
    "\n",
    "After generating our model, we run some basic tests\n",
    "to ensure that it has captured some semantic information results"
   ]
  },
  {
   "cell_type": "code",
   "execution_count": 20,
   "metadata": {
    "collapsed": false
   },
   "outputs": [
    {
     "data": {
      "text/plain": [
       "[('puppy', 0.29517465829849243),\n",
       " ('baby', 0.28231385350227356),\n",
       " ('sleeps', 0.2780076265335083),\n",
       " ('poured', 0.26375722885131836),\n",
       " ('niece', 0.2555815577507019),\n",
       " ('cpr', 0.2549140453338623),\n",
       " ('vodka', 0.2545509338378906),\n",
       " ('pair', 0.25444141030311584),\n",
       " ('a_half_ago', 0.25060075521469116),\n",
       " ('guards', 0.24627558887004852)]"
      ]
     },
     "execution_count": 20,
     "metadata": {},
     "output_type": "execute_result"
    }
   ],
   "source": [
    "model.most_similar(positive = [\"kitten\"])"
   ]
  },
  {
   "cell_type": "code",
   "execution_count": 21,
   "metadata": {
    "collapsed": false
   },
   "outputs": [
    {
     "data": {
      "text/plain": [
       "[('she', 0.6510519981384277),\n",
       " ('my', 0.5369052290916443),\n",
       " ('me', 0.5062918663024902),\n",
       " ('him', 0.4567736089229584),\n",
       " ('shes', 0.44906753301620483),\n",
       " ('his', 0.4077233076095581),\n",
       " ('my_mom', 0.3999635577201843),\n",
       " ('herself', 0.39447176456451416),\n",
       " ('and', 0.37899160385131836),\n",
       " ('mother', 0.37736374139785767)]"
      ]
     },
     "execution_count": 21,
     "metadata": {},
     "output_type": "execute_result"
    }
   ],
   "source": [
    "model.most_similar(positive = [\"her\"])"
   ]
  },
  {
   "cell_type": "code",
   "execution_count": 22,
   "metadata": {
    "collapsed": false
   },
   "outputs": [
    {
     "data": {
      "text/plain": [
       "[('his', 0.5938185453414917),\n",
       " ('and', 0.5448551774024963),\n",
       " ('her', 0.5369052290916443),\n",
       " ('the', 0.49303215742111206),\n",
       " ('your', 0.46680885553359985),\n",
       " ('their', 0.458759605884552),\n",
       " ('i', 0.4112635850906372),\n",
       " ('a', 0.40751779079437256),\n",
       " ('my_own', 0.4025762677192688),\n",
       " ('our', 0.38989442586898804)]"
      ]
     },
     "execution_count": 22,
     "metadata": {},
     "output_type": "execute_result"
    }
   ],
   "source": [
    "model.most_similar(positive = [\"my\"])"
   ]
  },
  {
   "cell_type": "code",
   "execution_count": 23,
   "metadata": {
    "collapsed": false
   },
   "outputs": [
    {
     "data": {
      "text/plain": [
       "[('mother', 0.4488663077354431),\n",
       " ('brother', 0.31456589698791504),\n",
       " ('my_mom', 0.2941199541091919),\n",
       " ('parents', 0.2693387269973755),\n",
       " ('child', 0.26594051718711853),\n",
       " ('my_dad', 0.2658591568470001),\n",
       " ('abuser', 0.26399141550064087),\n",
       " ('molested_by', 0.263275146484375),\n",
       " ('molester', 0.2622520327568054),\n",
       " ('growing_up', 0.26060760021209717)]"
      ]
     },
     "execution_count": 23,
     "metadata": {},
     "output_type": "execute_result"
    }
   ],
   "source": [
    "model.most_similar(positive = [\"father\", \"woman\"], negative = [\"man\"])"
   ]
  },
  {
   "cell_type": "code",
   "execution_count": 24,
   "metadata": {
    "collapsed": false
   },
   "outputs": [
    {
     "data": {
      "text/plain": [
       "[('friends', 0.2847524881362915),\n",
       " ('parents', 0.2632507085800171),\n",
       " ('identity', 0.25016000866889954),\n",
       " ('immediate_family', 0.24966305494308472),\n",
       " ('impending', 0.24379894137382507),\n",
       " ('moral', 0.24031078815460205),\n",
       " ('relatives', 0.23715239763259888),\n",
       " ('phone', 0.23234713077545166),\n",
       " ('mother', 0.23103675246238708),\n",
       " ('mess', 0.2234201282262802)]"
      ]
     },
     "execution_count": 24,
     "metadata": {},
     "output_type": "execute_result"
    }
   ],
   "source": [
    "model.most_similar(positive = [\"family\", \"obligation\"], negative = [\"love\"])"
   ]
  },
  {
   "cell_type": "markdown",
   "metadata": {},
   "source": [
    "### Save Model\n",
    "\n",
    "After generating our model, and runing some basic tests,\n",
    "we now save it so that we can analysis it later without having\n",
    "to go through lengthy computations. We also delete and then reload\n",
    "the model, as an example of how to do so."
   ]
  },
  {
   "cell_type": "code",
   "execution_count": 25,
   "metadata": {
    "collapsed": true
   },
   "outputs": [],
   "source": [
    "model.save('models/' + model_name + '.model')\n",
    "del model"
   ]
  },
  {
   "cell_type": "code",
   "execution_count": 26,
   "metadata": {
    "collapsed": true
   },
   "outputs": [],
   "source": [
    "model = gensim.models.Word2Vec.load('models/' + model_name + '.model')"
   ]
  },
  {
   "cell_type": "markdown",
   "metadata": {},
   "source": [
    "### Generate Matricies\n",
    "\n",
    "After generating our Word2Vec Model, we generate \n",
    "a collection of matricies that will be useful for\n",
    "analysis. This includes a Words By feature matrix,\n",
    "and a Post By Words Matrix. Note, we will use camelCase \n",
    "for matrix names, and only matrix names"
   ]
  },
  {
   "cell_type": "code",
   "execution_count": 27,
   "metadata": {
    "collapsed": true
   },
   "outputs": [],
   "source": [
    "# Initialize the list of words used\n",
    "vocab_list = sorted(list(model.wv.vocab))"
   ]
  },
  {
   "cell_type": "code",
   "execution_count": 28,
   "metadata": {
    "collapsed": true
   },
   "outputs": [],
   "source": [
    "# Extract the word vectors\n",
    "vecs = []\n",
    "for word in vocab_list:\n",
    "    vecs.append(model.wv[word].tolist())"
   ]
  },
  {
   "cell_type": "code",
   "execution_count": 29,
   "metadata": {
    "collapsed": true
   },
   "outputs": [],
   "source": [
    "# change array format into numpy array\n",
    "WordsByFeatures = np.array(vecs)"
   ]
  },
  {
   "cell_type": "code",
   "execution_count": 30,
   "metadata": {
    "collapsed": false
   },
   "outputs": [],
   "source": [
    "from sklearn.feature_extraction.text import CountVectorizer\n",
    "countvec = CountVectorizer(vocabulary = vocab_list, analyzer = (lambda lst:list(map((lambda s:s), lst))), min_df = 0)"
   ]
  },
  {
   "cell_type": "code",
   "execution_count": 31,
   "metadata": {
    "collapsed": false
   },
   "outputs": [],
   "source": [
    "# Make Posts By Words Matrix\n",
    "PostsByWords = countvec.fit_transform(posts)"
   ]
  },
  {
   "cell_type": "markdown",
   "metadata": {},
   "source": [
    "### Basic Matrix tests\n",
    "\n",
    "After generating our matricies, we run some basic tests\n",
    "to ensure that they seem resaonable later without having\n",
    "to go through lengthy computations"
   ]
  },
  {
   "cell_type": "code",
   "execution_count": 32,
   "metadata": {
    "collapsed": false
   },
   "outputs": [
    {
     "data": {
      "text/plain": [
       "True"
      ]
     },
     "execution_count": 32,
     "metadata": {},
     "output_type": "execute_result"
    }
   ],
   "source": [
    "# Check that PostsByWords is the number of Posts by the number of words\n",
    "PostsByWords.shape[0] == len(posts)"
   ]
  },
  {
   "cell_type": "code",
   "execution_count": 33,
   "metadata": {
    "collapsed": false
   },
   "outputs": [
    {
     "data": {
      "text/plain": [
       "True"
      ]
     },
     "execution_count": 33,
     "metadata": {},
     "output_type": "execute_result"
    }
   ],
   "source": [
    "# check that the number of words is consistant for all matricies\n",
    "PostsByWords.shape[1] == len(WordsByFeatures)"
   ]
  },
  {
   "cell_type": "markdown",
   "metadata": {},
   "source": [
    "### Save Matricies\n",
    "\n",
    "After generating our matricies, we save them so we can \n",
    "analyze them later without having to go through lengthy\n",
    "computations."
   ]
  },
  {
   "cell_type": "code",
   "execution_count": 34,
   "metadata": {
    "collapsed": true
   },
   "outputs": [],
   "source": [
    "save_object(PostsByWords,'matricies/', model_name + \"-PostsByWords\")\n",
    "save_object(WordsByFeatures,'matricies/', model_name + \"-WordsByFeatures\")"
   ]
  },
  {
   "cell_type": "markdown",
   "metadata": {},
   "source": [
    "### Generate Word Clusters\n",
    "\n",
    "Now that we have generated and saved our matricies,\n",
    "we will proceed to generate word clusters using \n",
    "kmeans clustering, and save them for later analysis."
   ]
  },
  {
   "cell_type": "code",
   "execution_count": 35,
   "metadata": {
    "collapsed": false
   },
   "outputs": [],
   "source": [
    "from sklearn.cluster import KMeans\n",
    "# get the fit for different values of K\n",
    "test_points = [12] + list(range(25, 401, 25))\n",
    "fit = []\n",
    "for point in test_points:\n",
    "    kmeans = KMeans(n_clusters = point, random_state = 42).fit(WordsByFeatures)\n",
    "    save_object(kmeans, 'clusters/', model_name + \"-words-cluster_model-\" + str(point))\n",
    "    fit.append(kmeans.inertia_)"
   ]
  },
  {
   "cell_type": "code",
   "execution_count": 36,
   "metadata": {
    "collapsed": true
   },
   "outputs": [],
   "source": [
    "save_object(fit, 'objects/', model_name + \"-words\" + \"-fit\")\n",
    "save_object(test_points, 'objects/', model_name + \"-words\" + \"-test_points\")\n",
    "del fit\n",
    "del test_points"
   ]
  }
 ],
 "metadata": {
  "kernelspec": {
   "display_name": "Python 3",
   "language": "python",
   "name": "python3"
  },
  "language_info": {
   "codemirror_mode": {
    "name": "ipython",
    "version": 3
   },
   "file_extension": ".py",
   "mimetype": "text/x-python",
   "name": "python",
   "nbconvert_exporter": "python",
   "pygments_lexer": "ipython3",
   "version": "3.5.3"
  }
 },
 "nbformat": 4,
 "nbformat_minor": 0
}
