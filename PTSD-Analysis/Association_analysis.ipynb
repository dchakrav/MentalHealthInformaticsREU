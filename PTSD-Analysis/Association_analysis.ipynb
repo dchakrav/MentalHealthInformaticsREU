{
 "cells": [
  {
   "cell_type": "markdown",
   "metadata": {},
   "source": [
    "# Association analysis\n",
    "\n",
    "This notebook focuses on creating and analysing assocation rules found in posts.\n",
    "\n",
    "We first load all the libraries we may use throughout the project"
   ]
  },
  {
   "cell_type": "code",
   "execution_count": null,
   "metadata": {
    "collapsed": false
   },
   "outputs": [],
   "source": [
    "#Import graphing utilities\n",
    "%matplotlib inline\n",
    "import matplotlib.pyplot as plt\n",
    "\n",
    "# Import useful mathematical libraries\n",
    "import numpy as np\n",
    "import pandas as pd\n",
    "\n",
    "# Import useful Machine learning libraries\n",
    "import gensim\n",
    "from sklearn.cluster import KMeans\n",
    "\n",
    "# Import utility files\n",
    "from utils import save_object, load_object, make_post_clusters, make_clustering_objects\n",
    "\n",
    "from orangecontrib.associate.fpgrowth import *"
   ]
  },
  {
   "cell_type": "markdown",
   "metadata": {},
   "source": [
    "### Set model name\n",
    "\n",
    "Before begining the rest of this project, we select a name for our model. This name will be used to save and load the files for this model"
   ]
  },
  {
   "cell_type": "code",
   "execution_count": null,
   "metadata": {
    "collapsed": true
   },
   "outputs": [],
   "source": [
    "# Set the model we are going to be analyzing\n",
    "model_name = \"PTSD_model\""
   ]
  },
  {
   "cell_type": "markdown",
   "metadata": {},
   "source": [
    "### Prepare data\n",
    "\n",
    "We now load and process the data we will need for the rest of this project"
   ]
  },
  {
   "cell_type": "code",
   "execution_count": null,
   "metadata": {
    "collapsed": true
   },
   "outputs": [],
   "source": [
    "# Initialize a word clustering to use\n",
    "num_word_clusters = 100"
   ]
  },
  {
   "cell_type": "code",
   "execution_count": null,
   "metadata": {
    "collapsed": false
   },
   "outputs": [],
   "source": [
    "df = load_object('objects/', model_name + '-df')\n",
    "\n",
    "# Load Our Saved matricies\n",
    "PostsByWords = load_object('matricies/', model_name + \"-PostsByWords\")\n",
    "WordsByFeatures = load_object('matricies/', model_name + \"-WordsByFeatures\")\n",
    "\n",
    "# Generate the posts by Features matrix through matrix multiplication\n",
    "PostsByFeatures = PostsByWords.dot(WordsByFeatures)\n",
    "PostsByFeatures = np.matrix(PostsByFeatures)\n",
    "model = gensim.models.Word2Vec.load('models/' + model_name + '.model')\n",
    "\n",
    "vocab_list = sorted(list(model.wv.vocab))\n",
    "\n",
    "kmeans =  load_object('clusters/', model_name + '-words-cluster_model-' + str(num_word_clusters))\n",
    "\n",
    "clusters = make_clustering_objects(model, kmeans, vocab_list, WordsByFeatures)\n",
    "\n",
    "clusterWords = list(map(lambda x: list(map(lambda y: y[0] , x[\"word_list\"])), clusters))\n",
    "\n",
    "from sklearn.feature_extraction.text import CountVectorizer\n",
    "countvec = CountVectorizer(vocabulary = vocab_list, analyzer = (lambda lst:list(map((lambda s: s), lst))), min_df = 0)\n",
    "\n",
    "# Make Clusters By Words Matrix\n",
    "ClustersByWords = countvec.fit_transform(clusterWords)\n",
    "\n",
    "# take the transpose of Clusters\n",
    "WordsByCluster = ClustersByWords.transpose()\n",
    "\n",
    "# Multiply Posts by Words by Words By cluster to get Posts By cluster\n",
    "PostsByClusters = PostsByWords.dot(WordsByCluster)"
   ]
  },
  {
   "cell_type": "code",
   "execution_count": null,
   "metadata": {
    "collapsed": false
   },
   "outputs": [],
   "source": [
    "PostsByClusters"
   ]
  },
  {
   "cell_type": "code",
   "execution_count": null,
   "metadata": {
    "collapsed": true
   },
   "outputs": [],
   "source": []
  },
  {
   "cell_type": "code",
   "execution_count": null,
   "metadata": {
    "collapsed": false
   },
   "outputs": [],
   "source": [
    "sorted_clusters = sorted(list(zip(clusters,range(len(clusters)))),key = (lambda x : x[0]['total_freq']))\n",
    "\n",
    "large_indicies = list(map(lambda x: x[1],sorted_clusters[-20:]))\n",
    "\n",
    "sorted_large_indicies = sorted(large_indicies, reverse =True)\n",
    "\n",
    "X = np.array(PostsByClusters.todense())\n",
    "index_mapping = list(range(100))\n",
    "\n",
    "for index in sorted_large_indicies:\n",
    "    X = np.delete(X,index,1)\n",
    "    del index_mapping[index]"
   ]
  },
  {
   "cell_type": "markdown",
   "metadata": {},
   "source": [
    "### Generate Rules\n",
    "\n",
    "Test rule generation on a subset of the data, before moving on to the entirety of the data"
   ]
  },
  {
   "cell_type": "code",
   "execution_count": null,
   "metadata": {
    "collapsed": true
   },
   "outputs": [],
   "source": [
    "assoc_confidence = 50\n",
    "itemset_support  = 10"
   ]
  },
  {
   "cell_type": "code",
   "execution_count": null,
   "metadata": {
    "collapsed": true
   },
   "outputs": [],
   "source": [
    "X_test = X[:700]"
   ]
  },
  {
   "cell_type": "code",
   "execution_count": null,
   "metadata": {
    "collapsed": false
   },
   "outputs": [],
   "source": [
    "X_test"
   ]
  },
  {
   "cell_type": "code",
   "execution_count": null,
   "metadata": {
    "collapsed": false
   },
   "outputs": [],
   "source": [
    "len(X_test)"
   ]
  },
  {
   "cell_type": "code",
   "execution_count": null,
   "metadata": {
    "collapsed": false
   },
   "outputs": [],
   "source": [
    "itemsets = dict(frequent_itemsets(X_test > 0, itemset_support/\n",
    "100))\n",
    "assoc_rules = association_rules(itemsets, assoc_confidence/100)\n",
    "rules = [(P, Q, supp, conf, conf/(itemsets[P]/X_test.shape[0]))\n",
    "             for P, Q, supp, conf in assoc_rules\n",
    "             if len(Q) == 1 and len(P)==1]"
   ]
  },
  {
   "cell_type": "code",
   "execution_count": null,
   "metadata": {
    "collapsed": false
   },
   "outputs": [],
   "source": [
    "rules"
   ]
  },
  {
   "cell_type": "markdown",
   "metadata": {},
   "source": [
    "### Load results\n",
    "\n",
    "We now load our results from running the association miner so we can analyze them"
   ]
  },
  {
   "cell_type": "code",
   "execution_count": null,
   "metadata": {
    "collapsed": false
   },
   "outputs": [],
   "source": [
    "rules    = load_object('association_rules/',model_name+'-assoc_rules-'+str(itemset_support)+\n",
    "                       '-'+str(assoc_confidence)+'-'+str(num_word_clusters))\n",
    "itemsets = load_object('itemsets/',model_name+'-itemset-'+str(itemset_support)+'-'+str(num_word_clusters))"
   ]
  },
  {
   "cell_type": "markdown",
   "metadata": {},
   "source": [
    "### Analyze results\n",
    "\n",
    "after loading our results we analyze them"
   ]
  },
  {
   "cell_type": "code",
   "execution_count": null,
   "metadata": {
    "collapsed": false
   },
   "outputs": [],
   "source": [
    "len(rules)"
   ]
  },
  {
   "cell_type": "code",
   "execution_count": null,
   "metadata": {
    "collapsed": false
   },
   "outputs": [],
   "source": [
    "len(itemsets)"
   ]
  },
  {
   "cell_type": "code",
   "execution_count": null,
   "metadata": {
    "collapsed": false
   },
   "outputs": [],
   "source": [
    "len(rules)/len(itemsets)"
   ]
  },
  {
   "cell_type": "code",
   "execution_count": null,
   "metadata": {
    "collapsed": false
   },
   "outputs": [],
   "source": [
    "rule_clusters =[]\n",
    "for i in range(num_word_clusters):\n",
    "    for lhs, rhs, support, confidence,lift in rules:\n",
    "        if (i in lhs) or (i in rhs): \n",
    "            rule_clusters.append(i)\n",
    "            break"
   ]
  },
  {
   "cell_type": "code",
   "execution_count": null,
   "metadata": {
    "collapsed": false
   },
   "outputs": [],
   "source": [
    "len(rule_clusters)"
   ]
  },
  {
   "cell_type": "code",
   "execution_count": null,
   "metadata": {
    "collapsed": true
   },
   "outputs": [],
   "source": [
    "rules.sort(key = lambda x : x[4],reverse = True)"
   ]
  },
  {
   "cell_type": "code",
   "execution_count": null,
   "metadata": {
    "collapsed": false
   },
   "outputs": [],
   "source": [
    "filtered_rules = list(filter(lambda x: len(x[0])==1 and len(x[1])==1,rules ))"
   ]
  },
  {
   "cell_type": "code",
   "execution_count": null,
   "metadata": {
    "collapsed": false
   },
   "outputs": [],
   "source": [
    "# load the models\n",
    "model = gensim.models.Word2Vec.load('models/' + model_name + '.model')\n",
    "kmeans = load_object('clusters/', model_name + \"-words-cluster_model-\" + str(num_word_clusters))\n",
    "WordsByFeatures = load_object('matricies/', model_name + '-' + 'WordsByFeatures')"
   ]
  },
  {
   "cell_type": "code",
   "execution_count": null,
   "metadata": {
    "collapsed": true
   },
   "outputs": [],
   "source": [
    "vocab_list = sorted(list(model.wv.vocab))"
   ]
  },
  {
   "cell_type": "code",
   "execution_count": null,
   "metadata": {
    "collapsed": true
   },
   "outputs": [],
   "source": [
    "clusters = make_clustering_objects(model, kmeans, vocab_list, WordsByFeatures)"
   ]
  },
  {
   "cell_type": "code",
   "execution_count": null,
   "metadata": {
    "collapsed": true
   },
   "outputs": [],
   "source": [
    "# Sort all the words in the words list\n",
    "for cluster in clusters:\n",
    "    cluster[\"word_list\"].sort(key = lambda x:x[1], reverse = True)"
   ]
  },
  {
   "cell_type": "code",
   "execution_count": null,
   "metadata": {
    "collapsed": false
   },
   "outputs": [],
   "source": [
    "len(filtered_rules)"
   ]
  },
  {
   "cell_type": "code",
   "execution_count": null,
   "metadata": {
    "collapsed": false
   },
   "outputs": [],
   "source": [
    "import csv\n",
    "top_num = min(10000,len(filtered_rules))\n",
    "header = [\"lhs\",\"rhs\",\"support\",\"confidence\",\"lift\"]\n",
    "with open('association-analysis/'+ model_name + \"-filtered-lift-supp\"+str(itemset_support) +\n",
    "          \"-conf-\"+str(assoc_confidence)+'-'+ str(top_num) + '.csv', 'w') as csvfile:\n",
    "    writer = csv.writer(csvfile)\n",
    "    writer.writerow(header)\n",
    "    for i in range(top_num):\n",
    "        rule = filtered_rules[i]\n",
    "        lhs_top = clusters[index_mapping[next(iter(rule[0]))]][\"word_list\"][:5]\n",
    "        rhs_top = clusters[index_mapping[next(iter(rule[1]))]][\"word_list\"][:5]\n",
    "        writer.writerow([lhs_top,rhs_top ,rule[2],rule[3],rule[4]])"
   ]
  },
  {
   "cell_type": "code",
   "execution_count": null,
   "metadata": {
    "collapsed": true
   },
   "outputs": [],
   "source": []
  }
 ],
 "metadata": {
  "kernelspec": {
   "display_name": "Python 3",
   "language": "python",
   "name": "python3"
  },
  "language_info": {
   "codemirror_mode": {
    "name": "ipython",
    "version": 3
   },
   "file_extension": ".py",
   "mimetype": "text/x-python",
   "name": "python",
   "nbconvert_exporter": "python",
   "pygments_lexer": "ipython3",
   "version": "3.5.3"
  }
 },
 "nbformat": 4,
 "nbformat_minor": 0
}
