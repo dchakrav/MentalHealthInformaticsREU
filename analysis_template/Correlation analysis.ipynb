{
 "cells": [
  {
   "cell_type": "markdown",
   "metadata": {},
   "source": [
    "# Correlation Analysis\n",
    "\n",
    "In this notebook we will attempt to analyze the correlations between different clusters in the posts.\n",
    "\n",
    "We first load all necesary libraries"
   ]
  },
  {
   "cell_type": "code",
   "execution_count": null,
   "metadata": {
    "collapsed": false
   },
   "outputs": [],
   "source": [
    "#Import graphing utilities\n",
    "%matplotlib inline\n",
    "import matplotlib.pyplot as plt\n",
    "\n",
    "# Import useful mathematical libraries\n",
    "import numpy as np\n",
    "import pandas as pd\n",
    "\n",
    "# Import useful Machine learning libraries\n",
    "import gensim\n",
    "from sklearn.cluster import KMeans\n",
    "\n",
    "# Import utility files\n",
    "from utils import save_object, load_object, make_post_clusters, make_clustering_objects\n",
    "\n",
    "from orangecontrib.associate.fpgrowth import *"
   ]
  },
  {
   "cell_type": "code",
   "execution_count": null,
   "metadata": {
    "collapsed": true
   },
   "outputs": [],
   "source": [
    "# Set the model we are going to be analyzing\n",
    "model_name = \"example_model\""
   ]
  },
  {
   "cell_type": "markdown",
   "metadata": {},
   "source": [
    "### Make Correlation Matrix"
   ]
  },
  {
   "cell_type": "code",
   "execution_count": null,
   "metadata": {
    "collapsed": true
   },
   "outputs": [],
   "source": [
    "# Initialize a word clustering to use\n",
    "num_word_clusters     = 100\n",
    "# Initialize the threshold to count a correlation\n",
    "correlation_threshold = 0.65"
   ]
  },
  {
   "cell_type": "code",
   "execution_count": null,
   "metadata": {
    "collapsed": false
   },
   "outputs": [],
   "source": [
    "df = load_object('objects/', model_name + '-df')\n",
    "\n",
    "# Load Our Saved matricies\n",
    "PostsByWords = load_object('matricies/', model_name + \"-PostsByWords\")\n",
    "WordsByFeatures = load_object('matricies/', model_name + \"-WordsByFeatures\")\n",
    "\n",
    "# Generate the posts by Features matrix through matrix multiplication\n",
    "PostsByFeatures = PostsByWords.dot(WordsByFeatures)\n",
    "PostsByFeatures = np.matrix(PostsByFeatures)\n",
    "model = gensim.models.Word2Vec.load('models/' + model_name + '.model')\n",
    "\n",
    "vocab_list = sorted(list(model.wv.vocab))\n",
    "\n",
    "kmeans =  load_object('clusters/', model_name + '-words-cluster_model-' + str(num_word_clusters))\n",
    "\n",
    "clusters = make_clustering_objects(model, kmeans, vocab_list, WordsByFeatures)\n",
    "\n",
    "clusterWords = list(map(lambda x: list(map(lambda y: y[0] , x[\"word_list\"])), clusters))\n",
    "\n",
    "from sklearn.feature_extraction.text import CountVectorizer\n",
    "countvec = CountVectorizer(vocabulary = vocab_list, analyzer = (lambda lst:list(map((lambda s: s), lst))), min_df = 0)\n",
    "\n",
    "# Make Clusters By Words Matrix\n",
    "ClustersByWords = countvec.fit_transform(clusterWords)\n",
    "\n",
    "# take the transpose of Clusters\n",
    "WordsByCluster = ClustersByWords.transpose()\n",
    "\n",
    "# Multiply Posts by Words by Words By cluster to get Posts By cluster\n",
    "PostsByClusters = PostsByWords.dot(WordsByCluster)"
   ]
  },
  {
   "cell_type": "code",
   "execution_count": null,
   "metadata": {
    "collapsed": true
   },
   "outputs": [],
   "source": [
    "X = np.array(PostsByClusters.todense())"
   ]
  },
  {
   "cell_type": "code",
   "execution_count": null,
   "metadata": {
    "collapsed": true
   },
   "outputs": [],
   "source": [
    "cluster_df = pd.DataFrame(data = X)"
   ]
  },
  {
   "cell_type": "code",
   "execution_count": null,
   "metadata": {
    "collapsed": false
   },
   "outputs": [],
   "source": [
    "correlations = cluster_df.corr().values"
   ]
  },
  {
   "cell_type": "code",
   "execution_count": null,
   "metadata": {
    "collapsed": false
   },
   "outputs": [],
   "source": [
    "# Sort all the words in the words list\n",
    "for cluster in clusters:\n",
    "    cluster[\"word_list\"].sort(key = lambda x:x[1], reverse = True)"
   ]
  },
  {
   "cell_type": "code",
   "execution_count": null,
   "metadata": {
    "collapsed": false
   },
   "outputs": [],
   "source": [
    "correlations_list = []\n",
    "for i in range(len(correlations)):\n",
    "    for j in range(i+1,len(correlations[0])):\n",
    "        corr_val = correlations[i][j]\n",
    "        if corr_val > correlation_threshold:\n",
    "            correlations_list.append([i,j,corr_val,clusters[i][\"word_list\"][:5],clusters[j][\"word_list\"][:5]])"
   ]
  },
  {
   "cell_type": "code",
   "execution_count": null,
   "metadata": {
    "collapsed": false
   },
   "outputs": [],
   "source": [
    "len(correlations_list)"
   ]
  },
  {
   "cell_type": "code",
   "execution_count": null,
   "metadata": {
    "collapsed": false
   },
   "outputs": [],
   "source": [
    "correlations_list"
   ]
  },
  {
   "cell_type": "code",
   "execution_count": null,
   "metadata": {
    "collapsed": true
   },
   "outputs": [],
   "source": [
    "import os\n",
    "directories = ['correlation-analysis']\n",
    "for dirname in directories:\n",
    "    if not os.path.exists(dirname):\n",
    "        os.makedirs(dirname)"
   ]
  },
  {
   "cell_type": "code",
   "execution_count": null,
   "metadata": {
    "collapsed": true
   },
   "outputs": [],
   "source": [
    "import csv\n",
    "heading = [\"cluster 1 number\", \"cluster 2 number\", \"correlation values\",\"cluster 1\",\"cluster 2\"]\n",
    "with open(\"correlation-analysis/\"+model_name+\"-correlations.csv\",\"w\") as csvfile:\n",
    "    writer = csv.writer(csvfile)\n",
    "    writer.writerow(heading)\n",
    "    [writer.writerow(r) for r in correlations_list]"
   ]
  }
 ],
 "metadata": {
  "kernelspec": {
   "display_name": "Python 3",
   "language": "python",
   "name": "python3"
  },
  "language_info": {
   "codemirror_mode": {
    "name": "ipython",
    "version": 3
   },
   "file_extension": ".py",
   "mimetype": "text/x-python",
   "name": "python",
   "nbconvert_exporter": "python",
   "pygments_lexer": "ipython3",
   "version": "3.5.3"
  }
 },
 "nbformat": 4,
 "nbformat_minor": 0
}
