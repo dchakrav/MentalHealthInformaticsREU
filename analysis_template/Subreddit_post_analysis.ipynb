{
 "cells": [
  {
   "cell_type": "code",
   "execution_count": null,
   "metadata": {
    "collapsed": true
   },
   "outputs": [],
   "source": [
    "# Import useful mathematical libraries\n",
    "import numpy as np\n",
    "import pandas as pd\n",
    "import glob\n",
    "\n",
    "# Import useful Machine learning libraries\n",
    "import gensim\n",
    "\n",
    "# Import utility files\n",
    "from utils import read_df, save_object, load_object"
   ]
  },
  {
   "cell_type": "code",
   "execution_count": null,
   "metadata": {
    "collapsed": true
   },
   "outputs": [],
   "source": [
    "# set the model name\n",
    "model_name = \"example\""
   ]
  },
  {
   "cell_type": "code",
   "execution_count": null,
   "metadata": {
    "collapsed": true
   },
   "outputs": [],
   "source": [
    "# set the folder for saved objects\n",
    "import os\n",
    "directories = ['objects', 'objects/subreddit_post_analysis']\n",
    "for dirname in directories:\n",
    "    if not os.path.exists(dirname):\n",
    "        os.makedirs(dirname)"
   ]
  },
  {
   "cell_type": "code",
   "execution_count": null,
   "metadata": {
    "collapsed": true
   },
   "outputs": [],
   "source": [
    "# Get the data from the csv files, assumed to be in a directory 'data'\n",
    "# indexed by name of the author MAKE SURE author is in column index 2 (position 3)\n",
    "# This saves each csv month into an individual dataframe, to be referenced later\n",
    "dirname = 'data'\n",
    "extension = \"/*.csv\"\n",
    "file_count = 0\n",
    "df = pd.DataFrame()\n",
    "df_list =[]\n",
    "fnames = glob.glob(dirname + extension)\n",
    "for fname in fnames:\n",
    "    df = pd.read_csv(fname, header=0, index_col = 2)\n",
    "    # save the data frame of posts\n",
    "    save_object(df, 'objects/subreddit_post_analysis/', model_name + \"-posts_dataframe-\" + str(file_count))\n",
    "    file_count += 1"
   ]
  },
  {
   "cell_type": "code",
   "execution_count": null,
   "metadata": {
    "collapsed": true
   },
   "outputs": [],
   "source": [
    "# create a variable to hold subreddits and their post counts, and the total number of posts\n",
    "subreddits = []\n",
    "subreddit_counts = []\n",
    "sum_posts = 0\n",
    "sum_deleted_posts = 0\n",
    "# iterate through saved datafranes\n",
    "for i in range(file_count):\n",
    "    df = load_object('objects/subreddit_post_analysis/', model_name + \"-posts_dataframe-\" + str(i))\n",
    "    sum_posts += len(df)\n",
    "    sum_deleted_posts += len(df.loc[['[deleted]']])\n",
    "    # iterate through each dataframe to analze the percentages of posts\n",
    "    for j in range(len(df)):\n",
    "        if not (df.iloc[j].subreddit in subreddits):\n",
    "            subreddits.append(df.iloc[j].subreddit)\n",
    "            subreddit_counts.append(1)\n",
    "        else:\n",
    "            subreddit_counts[subreddits.index(df.iloc[j].subreddit)] += 1"
   ]
  },
  {
   "cell_type": "code",
   "execution_count": null,
   "metadata": {
    "collapsed": true
   },
   "outputs": [],
   "source": [
    "# sort the subreddits and counts by highest percentage\n",
    "subreddit_counts, subreddits = (list(t) for t in zip(*sorted(zip(subreddit_counts, subreddits), reverse=True)))"
   ]
  },
  {
   "cell_type": "code",
   "execution_count": null,
   "metadata": {
    "collapsed": true
   },
   "outputs": [],
   "source": [
    "# save subreddit_counts and subreddits\n",
    "save_object(subreddit_counts, 'objects/subreddit_post_analysis/', model_name + \"-subreddit_counts\")\n",
    "save_object(subreddits, 'objects/subreddit_post_analysis/', model_name + \"-subreddits\")"
   ]
  },
  {
   "cell_type": "code",
   "execution_count": null,
   "metadata": {
    "collapsed": true
   },
   "outputs": [],
   "source": [
    "# print the percentages of posts in each subreddit present\n",
    "for subreddit in subreddits:\n",
    "    print(str(subreddit), end=\": \")\n",
    "    print(subreddit_counts[subreddits.index(subreddit)]*100/sum_posts)\n",
    "\n",
    "print(\"Total Number of Posts: \" + str(sum_posts))\n",
    "print(\"Total Number of Posts After Deletion: \" + str(sum_posts - sum_deleted_posts))"
   ]
  }
 ],
 "metadata": {
  "kernelspec": {
   "display_name": "Python 3",
   "language": "python",
   "name": "python3"
  },
  "language_info": {
   "codemirror_mode": {
    "name": "ipython",
    "version": 3
   },
   "file_extension": ".py",
   "mimetype": "text/x-python",
   "name": "python",
   "nbconvert_exporter": "python",
   "pygments_lexer": "ipython3",
   "version": "3.5.3"
  }
 },
 "nbformat": 4,
 "nbformat_minor": 2
}
