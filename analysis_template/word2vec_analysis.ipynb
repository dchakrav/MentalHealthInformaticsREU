{
 "cells": [
  {
   "cell_type": "markdown",
   "metadata": {},
   "source": [
    "# Word2Vec Analysis\n",
    "\n",
    "This notebook focuses on analysing the word2vec model we are using. This will mostly involve testing the functions given by gensim.\n",
    "\n",
    "We first import the libaries we will need throughout the project"
   ]
  },
  {
   "cell_type": "code",
   "execution_count": 1,
   "metadata": {
    "collapsed": true
   },
   "outputs": [],
   "source": [
    "#Import graphing utilities\n",
    "%matplotlib inline\n",
    "import matplotlib.pyplot as plt\n",
    "\n",
    "# Import useful mathematical libraries\n",
    "import numpy as np\n",
    "import pandas as pd\n",
    "\n",
    "# Import useful Machine learning libraries\n",
    "import gensim\n",
    "\n",
    "# Import utility files\n",
    "from utils import save_object,load_object"
   ]
  },
  {
   "cell_type": "markdown",
   "metadata": {},
   "source": [
    "### Set model name\n",
    "\n",
    "Before begining the rest of this project, we select a name for our model. This name will be used to save and load the files for this model"
   ]
  },
  {
   "cell_type": "code",
   "execution_count": 2,
   "metadata": {
    "collapsed": true
   },
   "outputs": [],
   "source": [
    "model_name = \"model6\""
   ]
  },
  {
   "cell_type": "markdown",
   "metadata": {},
   "source": [
    "### Examine word similarities\n",
    "\n",
    "We first examine word similarities"
   ]
  },
  {
   "cell_type": "code",
   "execution_count": 4,
   "metadata": {
    "collapsed": true
   },
   "outputs": [],
   "source": [
    "model = gensim.models.Word2Vec.load('models/'+model_name+'.model')"
   ]
  },
  {
   "cell_type": "code",
   "execution_count": 5,
   "metadata": {
    "collapsed": false
   },
   "outputs": [
    {
     "data": {
      "text/plain": [
       "[('betrayal', 0.5829812288284302),\n",
       " ('loneliness', 0.5747349262237549),\n",
       " ('abandonment', 0.5463388562202454),\n",
       " ('heartache', 0.5316531658172607),\n",
       " ('sadness', 0.5248433947563171),\n",
       " ('grief', 0.4989320933818817),\n",
       " ('rejection', 0.4708385467529297),\n",
       " ('betrayals', 0.46409881114959717),\n",
       " ('hopelessness', 0.4623437523841858),\n",
       " ('anguish', 0.45902955532073975)]"
      ]
     },
     "execution_count": 5,
     "metadata": {},
     "output_type": "execute_result"
    }
   ],
   "source": [
    "model.most_similar(positive=[\"heartbreak\"])"
   ]
  },
  {
   "cell_type": "code",
   "execution_count": 7,
   "metadata": {
    "collapsed": false
   },
   "outputs": [
    {
     "data": {
      "text/plain": [
       "[('sleeping_pills', 0.801128625869751),\n",
       " ('painkillers', 0.7319083213806152),\n",
       " ('muscle_relaxers', 0.7053226232528687),\n",
       " ('tylenol', 0.6959131956100464),\n",
       " ('pain_killers', 0.6918990612030029),\n",
       " ('ibuprofen', 0.6794541478157043),\n",
       " ('ambien', 0.6674091815948486),\n",
       " ('valium', 0.6650989055633545),\n",
       " ('xanax', 0.6614318490028381),\n",
       " ('advil', 0.6609443426132202)]"
      ]
     },
     "execution_count": 7,
     "metadata": {},
     "output_type": "execute_result"
    }
   ],
   "source": [
    "model.most_similar(positive=[\"pills\"])"
   ]
  },
  {
   "cell_type": "code",
   "execution_count": 8,
   "metadata": {
    "collapsed": false
   },
   "outputs": [
    {
     "data": {
      "text/plain": [
       "[('blade', 0.7702487111091614),\n",
       " ('kitchen_knife', 0.7561583518981934),\n",
       " ('razor', 0.7034561634063721),\n",
       " ('razor_blade', 0.6944936513900757),\n",
       " ('steak_knife', 0.6316778063774109),\n",
       " ('wrist', 0.6295967102050781),\n",
       " ('scissors', 0.6221545934677124),\n",
       " ('knives', 0.6062738299369812),\n",
       " ('butcher_knife', 0.6028643250465393),\n",
       " ('an_exacto_knife', 0.6015197038650513)]"
      ]
     },
     "execution_count": 8,
     "metadata": {},
     "output_type": "execute_result"
    }
   ],
   "source": [
    "model.most_similar(positive=[\"knife\"])"
   ]
  },
  {
   "cell_type": "code",
   "execution_count": 9,
   "metadata": {
    "collapsed": false
   },
   "outputs": [
    {
     "data": {
      "text/plain": [
       "[('cat', 0.4867851734161377),\n",
       " ('kitty', 0.4587540030479431),\n",
       " ('dog', 0.43468546867370605),\n",
       " ('baby', 0.42002180218696594),\n",
       " ('pet', 0.41659820079803467),\n",
       " ('chihuahua', 0.4150254726409912),\n",
       " ('puppy', 0.4139459729194641),\n",
       " ('stuffed_animal', 0.40899857878685),\n",
       " ('german_shepherd', 0.3876553177833557),\n",
       " ('bunny', 0.38353854417800903)]"
      ]
     },
     "execution_count": 9,
     "metadata": {},
     "output_type": "execute_result"
    }
   ],
   "source": [
    "model.most_similar(positive=[\"kitten\"])"
   ]
  },
  {
   "cell_type": "code",
   "execution_count": 11,
   "metadata": {
    "collapsed": false
   },
   "outputs": [
    {
     "data": {
      "text/plain": [
       "[('dog', 0.6382265090942383),\n",
       " ('cat', 0.5851335525512695),\n",
       " ('dogs', 0.516486644744873),\n",
       " ('pet', 0.5114070773124695),\n",
       " ('baby', 0.4772936999797821),\n",
       " ('cats', 0.4633815884590149),\n",
       " ('chihuahua', 0.45847272872924805),\n",
       " ('pets', 0.43821343779563904),\n",
       " ('kitty', 0.43616247177124023),\n",
       " ('kitten', 0.4139459729194641)]"
      ]
     },
     "execution_count": 11,
     "metadata": {},
     "output_type": "execute_result"
    }
   ],
   "source": [
    "model.most_similar(positive=[\"puppy\"])"
   ]
  },
  {
   "cell_type": "markdown",
   "metadata": {},
   "source": [
    "### Examine word relationships\n",
    "\n",
    "We now examine information contained in word vectors relative locations"
   ]
  },
  {
   "cell_type": "code",
   "execution_count": 17,
   "metadata": {
    "collapsed": false
   },
   "outputs": [
    {
     "data": {
      "text/plain": [
       "[('emotionally_abusive', 0.4020494818687439),\n",
       " ('insensitive', 0.37914222478866577),\n",
       " ('manipulative', 0.3714224100112915),\n",
       " ('manipulative_bitch', 0.3363695442676544),\n",
       " ('both_alcoholics', 0.3348906338214874),\n",
       " ('arrogant', 0.3333490192890167),\n",
       " ('inconsiderate', 0.3329807221889496),\n",
       " ('cunt', 0.33248594403266907),\n",
       " ('hurtful', 0.33186444640159607),\n",
       " ('arrogant_asshole', 0.33185720443725586)]"
      ]
     },
     "execution_count": 17,
     "metadata": {},
     "output_type": "execute_result"
    }
   ],
   "source": [
    "model.most_similar(positive=[\"abusive\",\"words\"],negative =[\"physical\"])"
   ]
  },
  {
   "cell_type": "code",
   "execution_count": 18,
   "metadata": {
    "collapsed": false
   },
   "outputs": [
    {
     "data": {
      "text/plain": [
       "[('killing_myself', 0.5683881044387817),\n",
       " ('committing_suicide', 0.5266705751419067),\n",
       " ('killing_yourself', 0.44861310720443726),\n",
       " ('sucide', 0.44581669569015503),\n",
       " ('death', 0.4447208046913147),\n",
       " ('sucidial', 0.44398051500320435),\n",
       " ('ending', 0.4431094825267792),\n",
       " ('suicidal_thoughts', 0.43945056200027466),\n",
       " ('harming_myself', 0.4386097192764282),\n",
       " ('prevailing', 0.43555474281311035)]"
      ]
     },
     "execution_count": 18,
     "metadata": {},
     "output_type": "execute_result"
    }
   ],
   "source": [
    "model.most_similar(positive=[\"suicide\",\"self\"])"
   ]
  },
  {
   "cell_type": "code",
   "execution_count": 19,
   "metadata": {
    "collapsed": false
   },
   "outputs": [
    {
     "data": {
      "text/plain": [
       "[('relatives', 0.4069085717201233),\n",
       " ('family_members', 0.40498000383377075),\n",
       " ('extended_family', 0.3911120891571045),\n",
       " ('parents', 0.3735034167766571),\n",
       " ('familly', 0.3418022692203522),\n",
       " ('siblings', 0.3276708722114563),\n",
       " ('blood_relatives', 0.3163728713989258),\n",
       " ('familial', 0.3114888370037079),\n",
       " ('immediate_family', 0.3109869360923767),\n",
       " ('families', 0.30771082639694214)]"
      ]
     },
     "execution_count": 19,
     "metadata": {},
     "output_type": "execute_result"
    }
   ],
   "source": [
    "model.most_similar(positive=[\"family\",\"obligation\"],negative = [\"love\"])"
   ]
  },
  {
   "cell_type": "code",
   "execution_count": 20,
   "metadata": {
    "collapsed": false
   },
   "outputs": [
    {
     "data": {
      "text/plain": [
       "[('mother', 0.7025207281112671),\n",
       " ('grandmother', 0.618820071220398),\n",
       " ('step_father', 0.6129697561264038),\n",
       " ('mom', 0.5624592304229736),\n",
       " ('dad', 0.56070876121521),\n",
       " ('sister', 0.5603752136230469),\n",
       " ('stepfather', 0.5593303442001343),\n",
       " ('step_dad', 0.5468809604644775),\n",
       " ('grandfather', 0.5455955266952515),\n",
       " ('wife', 0.5387123227119446)]"
      ]
     },
     "execution_count": 20,
     "metadata": {},
     "output_type": "execute_result"
    }
   ],
   "source": [
    "model.most_similar(positive=[\"father\",\"woman\"],negative=[\"man\"])"
   ]
  },
  {
   "cell_type": "code",
   "execution_count": 6,
   "metadata": {
    "collapsed": false
   },
   "outputs": [
    {
     "data": {
      "text/plain": [
       "[('puppy', 0.40814000368118286),\n",
       " ('stuffed_animal', 0.3996387720108032),\n",
       " ('chihuahua', 0.3905201256275177),\n",
       " ('kitty', 0.3862040042877197),\n",
       " ('dogs', 0.3770129680633545),\n",
       " ('grandchild', 0.3749309182167053),\n",
       " ('baby', 0.3676145672798157),\n",
       " ('german_shepherd', 0.36399930715560913),\n",
       " ('pet', 0.3624024987220764),\n",
       " ('princess', 0.33664271235466003)]"
      ]
     },
     "execution_count": 6,
     "metadata": {},
     "output_type": "execute_result"
    }
   ],
   "source": [
    "model.most_similar(positive=[\"kitten\",\"dog\"],negative=[\"cat\"])"
   ]
  },
  {
   "cell_type": "code",
   "execution_count": 12,
   "metadata": {
    "collapsed": false
   },
   "outputs": [
    {
     "data": {
      "text/plain": [
       "[('honestly', 0.4869132936000824),\n",
       " ('and', 0.4807285666465759),\n",
       " ('they', 0.46837007999420166),\n",
       " ('succeded', 0.46467646956443787),\n",
       " ('really', 0.4528850317001343),\n",
       " ('but', 0.4521094560623169),\n",
       " ('id', 0.44709664583206177),\n",
       " ('becaus', 0.44090181589126587),\n",
       " ('do', 0.4340188503265381),\n",
       " ('just', 0.4320968985557556)]"
      ]
     },
     "execution_count": 12,
     "metadata": {},
     "output_type": "execute_result"
    }
   ],
   "source": [
    "model.most_similar(positive=[\"i\"])"
   ]
  },
  {
   "cell_type": "code",
   "execution_count": null,
   "metadata": {
    "collapsed": true
   },
   "outputs": [],
   "source": []
  }
 ],
 "metadata": {
  "kernelspec": {
   "display_name": "Python 3",
   "language": "python",
   "name": "python3"
  },
  "language_info": {
   "codemirror_mode": {
    "name": "ipython",
    "version": 3
   },
   "file_extension": ".py",
   "mimetype": "text/x-python",
   "name": "python",
   "nbconvert_exporter": "python",
   "pygments_lexer": "ipython3",
   "version": "3.5.3"
  }
 },
 "nbformat": 4,
 "nbformat_minor": 0
}
